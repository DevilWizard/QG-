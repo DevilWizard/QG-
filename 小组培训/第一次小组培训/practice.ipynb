{
 "cells": [
  {
   "cell_type": "markdown",
   "metadata": {},
   "source": [
    "## numpy练习题\n",
    "\n",
    "1. Create a null vector of size 10\n",
    "\n",
    "2. Create a null vector of size 10 but the fifth value which is 1 \n",
    "3. Create a vector with values ranging from 10 to 49 \n",
    "4. Create a 3x3 matrix with values ranging from 0 to 8 \n",
    "5. Create a 10x10 array with random values and find the minimum and maximum values \n",
    "6. Create a 2d array with 1 on the border and 0 inside \n",
    "\n",
    "7. Multiply a 5x3 matrix by a 3x2 matrix (real matrix product) \n",
    "\n"
   ]
  },
  {
   "cell_type": "code",
   "execution_count": 1,
   "metadata": {},
   "outputs": [],
   "source": [
    "import numpy as np"
   ]
  },
  {
   "cell_type": "code",
   "execution_count": 41,
   "metadata": {},
   "outputs": [
    {
     "name": "stdout",
     "output_type": "stream",
     "text": [
      "[0. 0. 0. 0. 0. 0. 0. 0. 0. 0.]\n"
     ]
    }
   ],
   "source": [
    "a=np.zeros(10)\n",
    "print(a)"
   ]
  },
  {
   "cell_type": "code",
   "execution_count": 44,
   "metadata": {},
   "outputs": [
    {
     "name": "stdout",
     "output_type": "stream",
     "text": [
      "[0. 0. 0. 0. 1. 0. 0. 0. 0. 0.]\n"
     ]
    }
   ],
   "source": [
    "a=np.zeros(10)\n",
    "a[4]=1\n",
    "print(a)"
   ]
  },
  {
   "cell_type": "code",
   "execution_count": 45,
   "metadata": {},
   "outputs": [
    {
     "name": "stdout",
     "output_type": "stream",
     "text": [
      "[10 11 12 13 14 15 16 17 18 19 20 21 22 23 24 25 26 27 28 29 30 31 32 33\n",
      " 34 35 36 37 38 39 40 41 42 43 44 45 46 47 48 49]\n"
     ]
    }
   ],
   "source": [
    "print(np.arange(10,50))"
   ]
  },
  {
   "cell_type": "code",
   "execution_count": 49,
   "metadata": {},
   "outputs": [
    {
     "name": "stdout",
     "output_type": "stream",
     "text": [
      "[[0 1 2]\n",
      " [3 4 5]\n",
      " [6 7 8]]\n"
     ]
    }
   ],
   "source": [
    "a=np.arange(0,9).reshape(3,3)\n",
    "a=np.matrix(a)\n",
    "print(a)\n"
   ]
  },
  {
   "cell_type": "code",
   "execution_count": 56,
   "metadata": {},
   "outputs": [
    {
     "name": "stdout",
     "output_type": "stream",
     "text": [
      "[[ 2.02015822 -0.22133914 -0.5242616  -0.74051322  1.05666196  0.68489932\n",
      "   3.23179327  0.75974966  0.3724759  -1.87379891]\n",
      " [ 1.64821106  0.93872423 -0.39732721 -1.69582666  0.27466709 -0.28741141\n",
      "  -1.64679948 -0.64669438 -0.30825092 -0.23636887]\n",
      " [ 0.97520469 -0.82759605  1.69678256  2.50642602 -1.04052949 -1.21384069\n",
      "  -1.00710592 -0.19416873 -1.56707622 -0.62606415]\n",
      " [ 2.19220397  1.24036488  0.91702429 -1.51244731 -0.14290935 -2.11152117\n",
      "   0.17881528  0.01027972 -0.66709693 -0.79129285]\n",
      " [-0.96065263 -0.00377996 -1.1649343   0.72408155 -1.07416108 -1.04182811\n",
      "  -0.92600068  3.28835293  0.08927164  0.43038052]\n",
      " [-1.80729344 -1.34428884 -0.94284174 -0.54265817 -0.14636597 -1.85869867\n",
      "  -0.35022184  0.40231413 -0.98648314 -0.6709645 ]\n",
      " [ 1.42530125 -0.39818144 -0.40778335  2.4378562  -1.08591626  0.49923855\n",
      "   0.20864388  0.33189482 -0.04254694 -1.64650545]\n",
      " [ 0.85902853  0.0193882   0.45316244 -0.13050819  0.85649205 -0.01439676\n",
      "  -1.51328747 -2.40483561 -0.00994738 -1.2487755 ]\n",
      " [ 0.40459052  0.00800717  3.21901374  0.02038705  0.17387801  0.47041758\n",
      "  -0.06808195  0.47424737 -0.22731603  1.03749839]\n",
      " [ 1.26530091  0.46964297  1.06736568 -0.37675093 -1.37138227  0.09947836\n",
      "   2.13289829  0.15145007  0.4051203  -0.67944561]]\n",
      "The max value is 3.288353,The min value is -2.404836\n"
     ]
    }
   ],
   "source": [
    "a=np.random.randn(10,10)\n",
    "print(a)\n",
    "max=a.max( )\n",
    "min=a.min( )\n",
    "print('The max value is %f,The min value is %f'%(max,min))\n"
   ]
  },
  {
   "cell_type": "code",
   "execution_count": 68,
   "metadata": {},
   "outputs": [
    {
     "name": "stdout",
     "output_type": "stream",
     "text": [
      "[[1. 1. 1. 1. 1.]\n",
      " [1. 0. 0. 0. 1.]\n",
      " [1. 0. 0. 0. 1.]\n",
      " [1. 0. 0. 0. 1.]\n",
      " [1. 1. 1. 1. 1.]]\n"
     ]
    }
   ],
   "source": [
    "a=np.ones((5,5))\n",
    "row=a.shape[0]\n",
    "column=a.shape[1]\n",
    "a[1:row-1,1:column-1]=0\n",
    "print(a)"
   ]
  },
  {
   "cell_type": "code",
   "execution_count": 69,
   "metadata": {},
   "outputs": [
    {
     "name": "stdout",
     "output_type": "stream",
     "text": [
      "[[ 10  13]\n",
      " [ 28  40]\n",
      " [ 46  67]\n",
      " [ 64  94]\n",
      " [ 82 121]]\n"
     ]
    }
   ],
   "source": [
    "a=np.arange(0,15).reshape(5,3)\n",
    "b=np.arange(0,6).reshape(3,2)\n",
    "result=np.matrix(a)*np.matrix(b)\n",
    "print(result)"
   ]
  },
  {
   "cell_type": "markdown",
   "metadata": {},
   "source": [
    "## pandas练习题\n",
    "\n",
    "​\tThe previous input is as follows：\n",
    "\n",
    "```\n",
    "import numpy as  np\n",
    "data = {'animal': ['cat', 'cat', 'snake', 'dog', 'dog', 'cat', 'snake', 'cat', 'dog', 'dog'],\n",
    "        'age': [2.5, 3, 0.5, np.nan, 5, 2, 4.5, np.nan, 7, 3],\n",
    "        'visits': [1, 3, 2, 3, 2, 3, 1, 1, 2, 1],\n",
    "        'priority': ['yes', 'yes', 'no', 'yes', 'no', 'no', 'no', 'yes', 'no', 'no']}\n",
    "\n",
    "labels = ['a', 'b', 'c', 'd', 'e', 'f', 'g', 'h', 'i', 'j']\n",
    "\n",
    "```\n",
    "\n",
    "1. Create df with labels as index\n",
    "2. Show df basic information and its data\n",
    "3. Select only the 'animal' and 'age' columns\n",
    "4. Select the row with missing value,\n",
    "5. Sort DF in descending age and ascending visit order\n",
    "\n",
    "6. In the 'animal' column, replace 'Snake' with 'Python'"
   ]
  },
  {
   "cell_type": "code",
   "execution_count": 3,
   "metadata": {},
   "outputs": [],
   "source": [
    "import numpy as  np\n",
    "import pandas as pd\n",
    "\n",
    "data = {'animal': ['cat', 'cat', 'snake', 'dog', 'dog', 'cat', 'snake', 'cat', 'dog', 'dog'],\n",
    "        'age': [2.5, 3, 0.5, np.nan, 5, 2, 4.5, np.nan, 7, 3],\n",
    "        'visits': [1, 3, 2, 3, 2, 3, 1, 1, 2, 1],\n",
    "        'priority': ['yes', 'yes', 'no', 'yes', 'no', 'no', 'no', 'yes', 'no', 'no']}\n",
    "\n",
    "labels = ['a', 'b', 'c', 'd', 'e', 'f', 'g', 'h', 'i', 'j']"
   ]
  },
  {
   "cell_type": "code",
   "execution_count": 4,
   "metadata": {},
   "outputs": [
    {
     "name": "stdout",
     "output_type": "stream",
     "text": [
      "  animal  age  visits priority\n",
      "a    cat  2.5       1      yes\n",
      "b    cat  3.0       3      yes\n",
      "c  snake  0.5       2       no\n",
      "d    dog  NaN       3      yes\n",
      "e    dog  5.0       2       no\n",
      "f    cat  2.0       3       no\n",
      "g  snake  4.5       1       no\n",
      "h    cat  NaN       1      yes\n",
      "i    dog  7.0       2       no\n",
      "j    dog  3.0       1       no\n"
     ]
    }
   ],
   "source": [
    "df=pd.DataFrame(data,index=labels)\n",
    "print(df)"
   ]
  },
  {
   "cell_type": "code",
   "execution_count": 32,
   "metadata": {},
   "outputs": [
    {
     "name": "stdout",
     "output_type": "stream",
     "text": [
      "  animal  age\n",
      "a    cat  2.5\n",
      "b    cat  3.0\n",
      "c  snake  0.5\n",
      "d    dog  NaN\n",
      "e    dog  5.0\n",
      "f    cat  2.0\n",
      "g  snake  4.5\n",
      "h    cat  NaN\n",
      "i    dog  7.0\n",
      "j    dog  3.0\n"
     ]
    }
   ],
   "source": [
    "df_only_first2columns=df[['animal','age']]\n",
    "print(df_only_first2columns)"
   ]
  },
  {
   "cell_type": "code",
   "execution_count": 64,
   "metadata": {},
   "outputs": [
    {
     "name": "stdout",
     "output_type": "stream",
     "text": [
      "The rows with nan value are as follows:\n",
      "  animal  age  visits priority\n",
      "d    dog  NaN       3      yes\n",
      "  animal  age  visits priority\n",
      "h    cat  NaN       1      yes\n"
     ]
    }
   ],
   "source": [
    "row=0\n",
    "nanvalue_row_index=[]\n",
    "for column in df.loc[df.index].values:\n",
    "    row+=1\n",
    "    if  True in pd.isna(column):\n",
    "        nanvalue_row_index.append(row)\n",
    "        \n",
    "print('The rows with nan value are as follows:')\n",
    "for rows in nanvalue_row_index:\n",
    "    print(df[rows-1:rows])"
   ]
  },
  {
   "cell_type": "code",
   "execution_count": 95,
   "metadata": {},
   "outputs": [
    {
     "name": "stdout",
     "output_type": "stream",
     "text": [
      "sort by ascending order in 'visits':\n",
      "   animal  age  visits priority\n",
      "a     cat  2.5       1      yes\n",
      "g  Python  4.5       1       no\n",
      "h     cat  NaN       1      yes\n",
      "j     dog  3.0       1       no\n",
      "c  Python  0.5       2       no\n",
      "e     dog  5.0       2       no\n",
      "i     dog  7.0       2       no\n",
      "b     cat  3.0       3      yes\n",
      "d     dog  NaN       3      yes\n",
      "f     cat  2.0       3       no\n",
      "\n",
      "\n",
      "sort by descending order in 'age':\n",
      "   animal  age  visits priority\n",
      "i     dog  7.0       2       no\n",
      "e     dog  5.0       2       no\n",
      "g  Python  4.5       1       no\n",
      "b     cat  3.0       3      yes\n",
      "j     dog  3.0       1       no\n",
      "a     cat  2.5       1      yes\n",
      "f     cat  2.0       3       no\n",
      "c  Python  0.5       2       no\n",
      "d     dog  NaN       3      yes\n",
      "h     cat  NaN       1      yes\n"
     ]
    }
   ],
   "source": [
    "print('sort by ascending order in \\'visits\\':')\n",
    "print(df.sort_values(by=['visits']))\n",
    "print('\\n')\n",
    "print('sort by descending order in \\'age\\':')\n",
    "print(df.sort_values(by=['age'],ascending=False))"
   ]
  },
  {
   "cell_type": "code",
   "execution_count": 81,
   "metadata": {},
   "outputs": [
    {
     "name": "stdout",
     "output_type": "stream",
     "text": [
      "   animal  age  visits priority\n",
      "a     cat  2.5       1      yes\n",
      "b     cat  3.0       3      yes\n",
      "c  Python  0.5       2       no\n",
      "d     dog  NaN       3      yes\n",
      "e     dog  5.0       2       no\n",
      "f     cat  2.0       3       no\n",
      "g  Python  4.5       1       no\n",
      "h     cat  NaN       1      yes\n",
      "i     dog  7.0       2       no\n",
      "j     dog  3.0       1       no\n"
     ]
    }
   ],
   "source": [
    "df.loc[df['animal']=='snake','animal']='Python'\n",
    "print(df)"
   ]
  },
  {
   "cell_type": "markdown",
   "metadata": {},
   "source": [
    "## matplotlib练习题\n",
    "\n",
    "#### Exercise : size analysis of iris flower\n",
    "\n",
    "Requirement：\n",
    "\n",
    "\t1. Size relationship between sepal and petal (scatter diagram)\n",
    "\n",
    "   \t2. The size relationship between sepals and petals of iris of different species\n",
    "   \t3. Distribution of sepals and petal sizes of different Iris species (box diagram)\n",
    "\n",
    "dataSet：\n",
    "\n",
    "```\n",
    "import seaborn as sns\n",
    "data = sns.load_dataset(\"iris\")\n",
    "```\n",
    "\n"
   ]
  },
  {
   "cell_type": "code",
   "execution_count": 14,
   "metadata": {},
   "outputs": [],
   "source": [
    "import seaborn as sns\n",
    "import matplotlib.pyplot as plt\n",
    "data=sns.load_dataset(\"iris\")\n",
    "\n",
    "%matplotlib inline"
   ]
  },
  {
   "cell_type": "code",
   "execution_count": 8,
   "metadata": {},
   "outputs": [
    {
     "name": "stdout",
     "output_type": "stream",
     "text": [
      "     sepal_length  sepal_width  petal_length  petal_width    species\n",
      "0             5.1          3.5           1.4          0.2     setosa\n",
      "1             4.9          3.0           1.4          0.2     setosa\n",
      "2             4.7          3.2           1.3          0.2     setosa\n",
      "3             4.6          3.1           1.5          0.2     setosa\n",
      "4             5.0          3.6           1.4          0.2     setosa\n",
      "..            ...          ...           ...          ...        ...\n",
      "145           6.7          3.0           5.2          2.3  virginica\n",
      "146           6.3          2.5           5.0          1.9  virginica\n",
      "147           6.5          3.0           5.2          2.0  virginica\n",
      "148           6.2          3.4           5.4          2.3  virginica\n",
      "149           5.9          3.0           5.1          1.8  virginica\n",
      "\n",
      "[150 rows x 5 columns]\n"
     ]
    }
   ],
   "source": [
    "print(data)"
   ]
  },
  {
   "cell_type": "code",
   "execution_count": 21,
   "metadata": {},
   "outputs": [
    {
     "data": {
      "image/png": "[encoded data removed]",
      "text/plain": [
       "<Figure size 432x288 with 1 Axes>"
      ]
     },
     "metadata": {
      "needs_background": "light"
     },
     "output_type": "display_data"
    }
   ],
   "source": [
    "s_length=data['sepal_length']\n",
    "p_length=data['petal_length']\n",
    "plt.scatter(s_length,p_length)\n",
    "plt.xlabel('sepal_length')\n",
    "plt.ylabel('petal_length')\n",
    "plt.show()"
   ]
  },
  {
   "cell_type": "code",
   "execution_count": 18,
   "metadata": {},
   "outputs": [
    {
     "data": {
      "image/png": "[encoded data removed]",
      "text/plain": [
       "<Figure size 432x288 with 1 Axes>"
      ]
     },
     "metadata": {
      "needs_background": "light"
     },
     "output_type": "display_data"
    }
   ],
   "source": [
    "s_width=data['sepal_width']\n",
    "p_width=data['petal_width']\n",
    "plt.scatter(s_width,p_width)\n",
    "plt.xlabel('sepal_width')\n",
    "plt.ylabel('petal_width')\n",
    "plt.show()"
   ]
  },
  {
   "cell_type": "code",
   "execution_count": 38,
   "metadata": {},
   "outputs": [
    {
     "data": {
      "image/png": "[encoded data removed]",
      "text/plain": [
       "<Figure size 432x288 with 2 Axes>"
      ]
     },
     "metadata": {
      "needs_background": "light"
     },
     "output_type": "display_data"
    }
   ],
   "source": [
    "setosa=data.loc[data['species']=='setosa']\n",
    "\n",
    "setosa_sepal_w=setosa['sepal_width']\n",
    "setosa_sepal_l=setosa['sepal_length']\n",
    "setosa_petal_w=setosa['petal_width']\n",
    "setosa_petal_l=setosa['petal_length']\n",
    "\n",
    "plt.figure()\n",
    "\n",
    "plt.subplot(121)\n",
    "plt.scatter(setosa_sepal_w,setosa_sepal_l)\n",
    "plt.xlabel('sepal_width')\n",
    "plt.ylabel('sepal_length')\n",
    "plt.title('setosa_sepal_info')\n",
    "\n",
    "plt.subplot(122)\n",
    "plt.scatter(setosa_petal_w,setosa_petal_l)\n",
    "plt.xlabel('petal_width')\n",
    "plt.ylabel('petal_length')\n",
    "plt.title('setosa_petal_info')\n",
    "\n",
    "plt.tight_layout()\n",
    "plt.show()"
   ]
  },
  {
   "cell_type": "code",
   "execution_count": 32,
   "metadata": {},
   "outputs": [
    {
     "data": {
      "image/png": "[encoded data removed]",
      "text/plain": [
       "<Figure size 432x288 with 2 Axes>"
      ]
     },
     "metadata": {
      "needs_background": "light"
     },
     "output_type": "display_data"
    }
   ],
   "source": [
    "virginica=data.loc[data['species']=='virginica']\n",
    "\n",
    "virginica_sepal_w=virginica['sepal_width']\n",
    "virginica_sepal_l=virginica['sepal_length']\n",
    "\n",
    "virginica_petal_w=virginica['petal_width']\n",
    "virginica_petal_l=virginica['petal_length']\n",
    "\n",
    "plt.figure()\n",
    "\n",
    "plt.subplot(121)\n",
    "plt.scatter(virginica_sepal_w,virginica_sepal_l)\n",
    "plt.xlabel('sepal_width')\n",
    "plt.ylabel('sepal_length')\n",
    "plt.title('virginica_sepal_info')\n",
    "\n",
    "plt.subplot(122)\n",
    "plt.scatter(virginica_petal_w,virginica_petal_l)\n",
    "plt.xlabel('petal_width')\n",
    "plt.ylabel('petal_length')\n",
    "plt.title('virginica_petal_info')\n",
    "\n",
    "plt.tight_layout()\n",
    "plt.show()"
   ]
  },
  {
   "cell_type": "code",
   "execution_count": 47,
   "metadata": {},
   "outputs": [
    {
     "data": {
      "image/png": "[encoded data removed]",
      "text/plain": [
       "<Figure size 432x288 with 4 Axes>"
      ]
     },
     "metadata": {
      "needs_background": "light"
     },
     "output_type": "display_data"
    }
   ],
   "source": [
    "plt.figure()\n",
    "\n",
    "plt.subplot(221)\n",
    "plt.boxplot(setosa_sepal_w)\n",
    "plt.title('setos_sepal_width')\n",
    "\n",
    "plt.subplot(222)\n",
    "plt.boxplot(setosa_sepal_l)\n",
    "plt.title('setosa_sepal_length')\n",
    "\n",
    "plt.subplot(223)\n",
    "plt.boxplot(setosa_petal_w)\n",
    "plt.title('setosa_petal_width')\n",
    "\n",
    "plt.subplot(224)\n",
    "plt.boxplot(setosa_petal_l)\n",
    "plt.title('setosa_petal_length')\n",
    "\n",
    "plt.tight_layout()\n",
    "plt.show()"
   ]
  },
  {
   "cell_type": "code",
   "execution_count": 48,
   "metadata": {},
   "outputs": [
    {
     "data": {
      "image/png": "[encoded data removed]",
      "text/plain": [
       "<Figure size 432x288 with 4 Axes>"
      ]
     },
     "metadata": {
      "needs_background": "light"
     },
     "output_type": "display_data"
    }
   ],
   "source": [
    "plt.figure()\n",
    "\n",
    "plt.subplot(221)\n",
    "plt.boxplot(virginica_sepal_w)\n",
    "plt.title('virginica_sepal_width')\n",
    "\n",
    "plt.subplot(222)\n",
    "plt.boxplot(virginica_sepal_l)\n",
    "plt.title('virginica_sepal_length')\n",
    "\n",
    "plt.subplot(223)\n",
    "plt.boxplot(virginica_petal_w)\n",
    "plt.title('virginica_petal_width')\n",
    "\n",
    "plt.subplot(224)\n",
    "plt.boxplot(virginica_petal_l)\n",
    "plt.title('virginica_petal_length')\n",
    "\n",
    "plt.tight_layout()\n",
    "plt.show()"
   ]
  },
  {
   "cell_type": "code",
   "execution_count": null,
   "metadata": {},
   "outputs": [],
   "source": []
  }
 ],
 "metadata": {
  "kernelspec": {
   "display_name": "Python 3",
   "language": "python",
   "name": "python3"
  },
  "language_info": {
   "codemirror_mode": {
    "name": "ipython",
    "version": 3
   },
   "file_extension": ".py",
   "mimetype": "text/x-python",
   "name": "python",
   "nbconvert_exporter": "python",
   "pygments_lexer": "ipython3",
   "version": "3.7.6"
  }
 },
 "nbformat": 4,
 "nbformat_minor": 4
}

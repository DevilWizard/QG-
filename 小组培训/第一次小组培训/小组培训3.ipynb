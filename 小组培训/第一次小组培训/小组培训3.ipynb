{
 "cells": [
  {
   "cell_type": "code",
   "execution_count": 2,
   "metadata": {},
   "outputs": [],
   "source": [
    "import pymysql"
   ]
  },
  {
   "cell_type": "code",
   "execution_count": 12,
   "metadata": {},
   "outputs": [],
   "source": [
    "conn=pymysql.connect(\n",
    "    host=\"localhost\",\n",
    "    user=\"root\",\n",
    "    password=\"ozx36250729\",\n",
    "    database=\"test\",\n",
    "    charset=\"utf8\"\n",
    ")\n",
    "\n",
    "cursor=conn.cursor()"
   ]
  },
  {
   "cell_type": "markdown",
   "metadata": {},
   "source": [
    "创建名为\"userinfo\"的表格"
   ]
  },
  {
   "cell_type": "code",
   "execution_count": 70,
   "metadata": {},
   "outputs": [],
   "source": [
    "sql= \"\"\"\n",
    "            CREATE TABLE userinfo(\n",
    "            id INT auto_increment PRIMARY KEY,\n",
    "            name CHAR(10) NOT NULL UNIQUE,\n",
    "            age TINYINT NOT NULL\n",
    "            )\n",
    "\"\"\"\n",
    "    \n",
    "try:\n",
    "    cursor.execute(sql)\n",
    "except Exception as e:\n",
    "    print(e)\n",
    "    conn.rollback()"
   ]
  },
  {
   "cell_type": "markdown",
   "metadata": {},
   "source": [
    "一次添加多个数据\n"
   ]
  },
  {
   "cell_type": "code",
   "execution_count": 71,
   "metadata": {},
   "outputs": [],
   "source": [
    "sql =\"\"\"\n",
    "    INSERT INTO userinfo(name,age)\n",
    "    VALUES(%s,%s)\n",
    "\"\"\"\n",
    "data = [\n",
    "    (\"Jimmy\",35),\n",
    "    (\"Tom\",25)\n",
    "]\n",
    "\n",
    "try:\n",
    "    cursor.executemany(sql,data)\n",
    "    conn.commit()\n",
    "    \n",
    "except Exception as e:\n",
    "    print(e)\n",
    "    conn.rollback()\n",
    "    "
   ]
  },
  {
   "cell_type": "markdown",
   "metadata": {},
   "source": [
    "一次添加一个数据"
   ]
  },
  {
   "cell_type": "code",
   "execution_count": 72,
   "metadata": {},
   "outputs": [],
   "source": [
    "sql =\"\"\"\n",
    "        INSERT INTO userinfo(name,age) VALUES('Bob',19)\n",
    "        \"\"\"\n",
    "try:\n",
    "    cursor.execute(sql)\n",
    "    conn.commit()\n",
    "    \n",
    "except Exception as e:\n",
    "    print(e)\n",
    "    conn.rollback()"
   ]
  },
  {
   "cell_type": "markdown",
   "metadata": {},
   "source": [
    "打印所有插入记录"
   ]
  },
  {
   "cell_type": "code",
   "execution_count": 73,
   "metadata": {},
   "outputs": [
    {
     "name": "stdout",
     "output_type": "stream",
     "text": [
      "The No.1 record  -- id : 1  name : \"Jimmy\"  age : 35\n",
      "The No.2 record  -- id : 2  name : \"Tom\"  age : 25\n",
      "The No.3 record  -- id : 3  name : \"Bob\"  age : 19\n"
     ]
    }
   ],
   "source": [
    "sql =\" SELECT * FROM userinfo  \"\n",
    "\n",
    "try:\n",
    "    cursor.execute(sql)\n",
    "    \n",
    "    record=cursor.fetchall()\n",
    "    order=1\n",
    "    for row in record :\n",
    "        id=row[0]\n",
    "        name=row[1]\n",
    "        age=row[2]\n",
    "        print('The No.%d record  -- id : %d  name : \\\"%s\\\"  age : %d' %\\\n",
    "                    (order,id,name,age))\n",
    "        order+=1\n",
    "        \n",
    "    conn.commit()\n",
    "    \n",
    "except Exception as e :\n",
    "    print(e)\n",
    "    conn.rollback()"
   ]
  },
  {
   "cell_type": "markdown",
   "metadata": {},
   "source": [
    "把年龄全部改为40"
   ]
  },
  {
   "cell_type": "code",
   "execution_count": 74,
   "metadata": {},
   "outputs": [
    {
     "name": "stdout",
     "output_type": "stream",
     "text": [
      "The table after modification :\n",
      "Jimmy's age now has been changed to 40 \n",
      "Tom's age now has been changed to 40 \n",
      "Bob's age now has been changed to 40 \n"
     ]
    }
   ],
   "source": [
    "sql1 =\" UPDATE  userinfo SET age=40 WHERE age<=40 \"\n",
    "sql2 =\" SELECT * FROM userinfo \"\n",
    "\n",
    "try:\n",
    "    cursor.execute(sql1)\n",
    "    cursor.execute(sql2)\n",
    "    \n",
    "    record=cursor.fetchall()\n",
    "    \n",
    "    print('The table after modification :')\n",
    "\n",
    "    for row in record:\n",
    "        name=row[1]\n",
    "        age=row[2]\n",
    "        print('%s\\'s age now has been changed to %d ' %(name,age))\n",
    "        \n",
    "    conn.commit()\n",
    "    \n",
    "except Exception as e:\n",
    "    print(e)\n",
    "    conn.rollback()\n",
    "    "
   ]
  },
  {
   "cell_type": "markdown",
   "metadata": {},
   "source": [
    "删除名为 'Bob' 的行"
   ]
  },
  {
   "cell_type": "code",
   "execution_count": 80,
   "metadata": {},
   "outputs": [
    {
     "name": "stdout",
     "output_type": "stream",
     "text": [
      "The table after deleting the row 'Bob' : \n",
      "The row 1 -- id : 1  name : 'Jimmy'  age : 40\n",
      "The row 2 -- id : 2  name : 'Tom'  age : 40\n"
     ]
    }
   ],
   "source": [
    "sql1 =\"DELETE FROM userinfo WHERE name='Bob' \"\n",
    "sql2 =\"SELECT *FROM userinfo \"\n",
    "try:\n",
    "    cursor.execute(sql1)\n",
    "    cursor.execute(sql2)\n",
    "    \n",
    "    record=cursor.fetchall()\n",
    "    \n",
    "    print('The table after deleting the row \\'Bob\\' : ')\n",
    "    count=1\n",
    "    for row in record :\n",
    "        id=row[0]\n",
    "        name=row[1]\n",
    "        age=row[2]\n",
    "        print('The row %d -- id : %d  name : \\'%s\\'  age : %d' % (count,id,name,age))\n",
    "\n",
    "        count+=1\n",
    "    \n",
    "    conn.commit()\n",
    "\n",
    "except Exception as e:\n",
    "    print(e)\n",
    "    conn.rollback()\n",
    "    "
   ]
  },
  {
   "cell_type": "markdown",
   "metadata": {},
   "source": [
    "按首字母先后逆排序"
   ]
  },
  {
   "cell_type": "code",
   "execution_count": 76,
   "metadata": {},
   "outputs": [
    {
     "name": "stdout",
     "output_type": "stream",
     "text": [
      "The table sorted by descending order :\n",
      " id : 2  name : 'Tom'  age : 40\n",
      " id : 1  name : 'Jimmy'  age : 40\n"
     ]
    }
   ],
   "source": [
    "sql=\" SELECT * FROM userinfo ORDER BY name DESC\"\n",
    " \n",
    "try:\n",
    "    cursor.execute(sql)\n",
    "    record=cursor.fetchall()\n",
    "    \n",
    "    print('The table sorted by descending order :')\n",
    "    for row in record:\n",
    "        id=row[0]\n",
    "        name=row[1]\n",
    "        age=row[2]\n",
    "        print(' id : %d  name : \\'%s\\'  age : %d' % (id,name,age))\n",
    "    \n",
    "    conn.commit()\n",
    "    \n",
    "except Exception as e:\n",
    "    print(e)\n",
    "    conn.rollback()"
   ]
  }
 ],
 "metadata": {
  "kernelspec": {
   "display_name": "Python 3",
   "language": "python",
   "name": "python3"
  },
  "language_info": {
   "codemirror_mode": {
    "name": "ipython",
    "version": 3
   },
   "file_extension": ".py",
   "mimetype": "text/x-python",
   "name": "python",
   "nbconvert_exporter": "python",
   "pygments_lexer": "ipython3",
   "version": "3.7.6"
  }
 },
 "nbformat": 4,
 "nbformat_minor": 4
}
